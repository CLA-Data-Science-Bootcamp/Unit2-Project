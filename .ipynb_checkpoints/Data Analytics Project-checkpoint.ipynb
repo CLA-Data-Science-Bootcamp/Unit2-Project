{
 "cells": [
  {
   "cell_type": "markdown",
   "metadata": {},
   "source": [
    "<img src=\"Logo.png\" width=\"100\" align=\"left\"/> \n",
    "\n",
    "# <center>Data Analytics project:</center>\n",
    "\n",
    "\n",
    "\n",
    "Congratulations on finishing the lessons content for this second unit !\n",
    "\n",
    "We have seen a lot of concepts in the second unit and we had the chance to test some of them. Now, we get to see how these different concepts are used to better understand our data."
   ]
  },
  {
   "cell_type": "markdown",
   "metadata": {},
   "source": [
    "## Some guidelines: \n",
    "1. To run a cell you can use the shortcut use : Shift + Enter\n",
    "\n",
    "2. Only sections mentioned as To-Do are the places where you should put in your own code other than that we do not recommend that you change the provided code.\n",
    "\n",
    "3. You will be graded for the visibility of your code so make sure you respect the correct indentation and that your code contains suitable variables names.\n",
    "\n",
    "4. This notebook is designed in a sequential way so if you solve your project on different days make sure to run the previous cells before you can run the one you want.\n",
    "\n",
    "5. Teacher assistants in the slack space remain available to answer any questions you might have.\n",
    "\n",
    ">Best of luck ! "
   ]
  },
  {
   "cell_type": "markdown",
   "metadata": {},
   "source": [
    "## Project Sections:\n",
    "In this project you will practice some of the concepts seen in the data analytics unit, you will deal with a real dataset. This dataset contains house sale prices for King County. It includes homes sold between May 2014 and May 2015.\n",
    "\n",
    "Our goal is to analyze this dataset, clean it then create a simple linear regression model using it.\n",
    "\n",
    "This project is devided into n sections : \n",
    "1. [Setting the environement](#set_env)\n",
    "\n",
    "2. [Importing necessary tools](#importing)\n",
    "\n",
    "3. [Dataset discovery](#dataset_discovery)\n",
    "\n",
    "4. [NA handling](#na_handling)\n",
    "\n",
    "5. [Useless variables deletion](#useless_var)\n",
    "\n",
    "6. [Outliers detection](#outliers)\n",
    "\n",
    "7. [Feature selection](#feature_selection)\n",
    "\n",
    "8. [Linear regression](#linear_reg)"
   ]
  },
  {
   "cell_type": "markdown",
   "metadata": {},
   "source": [
    "### 1. Setting the environement:  <a id='set_env'></a>"
   ]
  },
  {
   "cell_type": "code",
   "execution_count": 1,
   "metadata": {},
   "outputs": [
    {
     "name": "stdout",
     "output_type": "stream",
     "text": [
      "Requirement already satisfied: virtualenv in c:\\python\\lib\\site-packages (20.13.0)\n",
      "Requirement already satisfied: filelock<4,>=3.2 in c:\\python\\lib\\site-packages (from virtualenv) (3.4.2)\n",
      "Requirement already satisfied: distlib<1,>=0.3.1 in c:\\python\\lib\\site-packages (from virtualenv) (0.3.4)\n",
      "Requirement already satisfied: six<2,>=1.9.0 in c:\\python\\lib\\site-packages (from virtualenv) (1.15.0)\n",
      "Requirement already satisfied: platformdirs<3,>=2 in c:\\python\\lib\\site-packages (from virtualenv) (2.4.1)\n"
     ]
    },
    {
     "name": "stderr",
     "output_type": "stream",
     "text": [
      "WARNING: You are using pip version 21.3.1; however, version 22.0.4 is available.\n",
      "You should consider upgrading via the 'c:\\python\\python.exe -m pip install --upgrade pip' command.\n"
     ]
    }
   ],
   "source": [
    "# Make sure you have virtualenv installed \n",
    "!pip install --user virtualenv"
   ]
  },
  {
   "cell_type": "code",
   "execution_count": 18,
   "metadata": {},
   "outputs": [],
   "source": [
    "# To-Do: create a virtual environement called data_analytics\n",
    "!python -m venv data_analytics"
   ]
  },
  {
   "cell_type": "code",
   "execution_count": 19,
   "metadata": {},
   "outputs": [
    {
     "name": "stderr",
     "output_type": "stream",
     "text": [
      "'source' n'est pas reconnu en tant que commande interne\n",
      "ou externe, un programme ex‚cutable ou un fichier de commandes.\n"
     ]
    }
   ],
   "source": [
    "# Activate the environement for windows\n",
    "!source data_analytics/bin/activate"
   ]
  },
  {
   "cell_type": "code",
   "execution_count": 20,
   "metadata": {},
   "outputs": [
    {
     "name": "stderr",
     "output_type": "stream",
     "text": [
      "'.' n'est pas reconnu en tant que commande interne\n",
      "ou externe, un programme ex‚cutable ou un fichier de commandes.\n"
     ]
    }
   ],
   "source": [
    "# Activate the environement for linux (debian based)\n",
    "!. data_analytics/bin/activate"
   ]
  },
  {
   "cell_type": "markdown",
   "metadata": {},
   "source": [
    "### 2. Importing necessary tools:<a id='importing'></a>"
   ]
  },
  {
   "cell_type": "code",
   "execution_count": 21,
   "metadata": {},
   "outputs": [],
   "source": [
    "import pandas as pd\n",
    "import matplotlib.pyplot as plt\n",
    "import seaborn as sns"
   ]
  },
  {
   "cell_type": "markdown",
   "metadata": {},
   "source": [
    "### 3. Dataset discovery:<a id='dataset_discovery'></a>"
   ]
  },
  {
   "cell_type": "code",
   "execution_count": 22,
   "metadata": {},
   "outputs": [
    {
     "name": "stdout",
     "output_type": "stream",
     "text": [
      "(21613, 21)\n"
     ]
    }
   ],
   "source": [
    "# To-Do: Read the file (\"kc_house_data.csv\") using pandas and store in a dataframe called df\n",
    "\n",
    "# To-Do: Print the dataframe's shape\n",
    "df = pd.read_csv(\"kc_house_data.csv\")\n",
    "\n",
    "print(df.shape)"
   ]
  },
  {
   "cell_type": "code",
   "execution_count": 23,
   "metadata": {},
   "outputs": [
    {
     "name": "stdout",
     "output_type": "stream",
     "text": [
      "Information: \n",
      "<class 'pandas.core.frame.DataFrame'>\n",
      "RangeIndex: 21613 entries, 0 to 21612\n",
      "Data columns (total 21 columns):\n",
      " #   Column         Non-Null Count  Dtype  \n",
      "---  ------         --------------  -----  \n",
      " 0   id             21613 non-null  int64  \n",
      " 1   date           21606 non-null  object \n",
      " 2   price          21608 non-null  float64\n",
      " 3   bedrooms       21613 non-null  int64  \n",
      " 4   bathrooms      21613 non-null  float64\n",
      " 5   sqft_living    21612 non-null  float64\n",
      " 6   sqft_lot       21612 non-null  float64\n",
      " 7   floors         21613 non-null  float64\n",
      " 8   waterfront     21613 non-null  int64  \n",
      " 9   view           21613 non-null  int64  \n",
      " 10  condition      21613 non-null  int64  \n",
      " 11  grade          21613 non-null  int64  \n",
      " 12  sqft_above     21609 non-null  float64\n",
      " 13  sqft_basement  21613 non-null  int64  \n",
      " 14  yr_built       21611 non-null  float64\n",
      " 15  yr_renovated   21612 non-null  float64\n",
      " 16  zipcode        21611 non-null  float64\n",
      " 17  lat            21612 non-null  float64\n",
      " 18  long           21613 non-null  float64\n",
      " 19  sqft_living15  21612 non-null  float64\n",
      " 20  sqft_lot15     21613 non-null  int64  \n",
      "dtypes: float64(12), int64(8), object(1)\n",
      "memory usage: 3.5+ MB\n",
      "None\n",
      "Nombre of na value in each column: \n",
      "id               0\n",
      "date             7\n",
      "price            5\n",
      "bedrooms         0\n",
      "bathrooms        0\n",
      "sqft_living      1\n",
      "sqft_lot         1\n",
      "floors           0\n",
      "waterfront       0\n",
      "view             0\n",
      "condition        0\n",
      "grade            0\n",
      "sqft_above       4\n",
      "sqft_basement    0\n",
      "yr_built         2\n",
      "yr_renovated     1\n",
      "zipcode          2\n",
      "lat              1\n",
      "long             0\n",
      "sqft_living15    1\n",
      "sqft_lot15       0\n",
      "dtype: int64\n"
     ]
    }
   ],
   "source": [
    "# To-Do: Print the dataframe's info\n",
    "print(\"Information: \")\n",
    "print(df.info())\n",
    "print(\"Nombre of na value in each column: \")\n",
    "print(df.isna().sum())"
   ]
  },
  {
   "cell_type": "markdown",
   "metadata": {},
   "source": [
    "### 4. NA handling:<a id='na_handling'></a>\n",
    "It is clear after printing the dataset info that there are some variables that have less entries than the number of rows which means that some of them don't have values in certain rows.\n",
    "\n",
    "Given the number of the na values, what do you think is the best method to deal with them?"
   ]
  },
  {
   "cell_type": "code",
   "execution_count": 24,
   "metadata": {},
   "outputs": [
    {
     "name": "stdout",
     "output_type": "stream",
     "text": [
      "There is not much na value so we will juste delete them\n"
     ]
    }
   ],
   "source": [
    "# To-Do: deal with the NAs in your dataset in one line\n",
    "print(\"There is not much na value so we will juste delete them\")\n",
    "df.dropna(inplace=True)"
   ]
  },
  {
   "cell_type": "markdown",
   "metadata": {},
   "source": [
    "### 5. Useless variables deletion:<a id='useless_var'></a>\n",
    "We want to eventually do a regression on it so naturally some variables bring no added value and can be delted without impacting the results.\n",
    "\n",
    "Delete the column that correspond to variables that aren't needed."
   ]
  },
  {
   "cell_type": "code",
   "execution_count": 25,
   "metadata": {
    "scrolled": true
   },
   "outputs": [],
   "source": [
    "# To-Do: delete the values of the variables that are useless\n",
    "df=df.drop(['floors','id','condition','date','zipcode','lat','long','view','waterfront'],axis=1)"
   ]
  },
  {
   "cell_type": "code",
   "execution_count": 26,
   "metadata": {},
   "outputs": [
    {
     "name": "stdout",
     "output_type": "stream",
     "text": [
      "<class 'pandas.core.frame.DataFrame'>\n",
      "Int64Index: 21588 entries, 0 to 21612\n",
      "Data columns (total 12 columns):\n",
      " #   Column         Non-Null Count  Dtype  \n",
      "---  ------         --------------  -----  \n",
      " 0   price          21588 non-null  float64\n",
      " 1   bedrooms       21588 non-null  int64  \n",
      " 2   bathrooms      21588 non-null  float64\n",
      " 3   sqft_living    21588 non-null  float64\n",
      " 4   sqft_lot       21588 non-null  float64\n",
      " 5   grade          21588 non-null  int64  \n",
      " 6   sqft_above     21588 non-null  float64\n",
      " 7   sqft_basement  21588 non-null  int64  \n",
      " 8   yr_built       21588 non-null  float64\n",
      " 9   yr_renovated   21588 non-null  float64\n",
      " 10  sqft_living15  21588 non-null  float64\n",
      " 11  sqft_lot15     21588 non-null  int64  \n",
      "dtypes: float64(8), int64(4)\n",
      "memory usage: 2.1 MB\n"
     ]
    }
   ],
   "source": [
    "df.info()"
   ]
  },
  {
   "cell_type": "markdown",
   "metadata": {},
   "source": [
    "### A wild playground appears !!\n",
    "In the next cell, go wild with the dataset discovery.\n",
    "You can calculate the mean, the median or do anything you want to learn more the data.\n",
    "\n",
    "<b>Pro tip :</b> \n",
    "Sometimes you might want to know how many unique variables a column has, to do so you can use the padas function :\n",
    "\n",
    "<center>pd.unique(df['column_name'])</center>"
   ]
  },
  {
   "cell_type": "code",
   "execution_count": 27,
   "metadata": {},
   "outputs": [
    {
     "name": "stdout",
     "output_type": "stream",
     "text": [
      "mean: \n",
      "price            540154.482490\n",
      "bedrooms              3.370576\n",
      "bathrooms             2.114670\n",
      "sqft_living        2079.916528\n",
      "sqft_lot          15113.699463\n",
      "grade                 7.656985\n",
      "sqft_above         1788.385353\n",
      "sqft_basement       291.531175\n",
      "yr_built           1971.004910\n",
      "yr_renovated         84.408329\n",
      "sqft_living15      1986.594265\n",
      "sqft_lot15        12771.769826\n",
      "dtype: float64\n",
      "median: \n",
      "price            450000.00\n",
      "bedrooms              3.00\n",
      "bathrooms             2.25\n",
      "sqft_living        1910.00\n",
      "sqft_lot           7620.00\n",
      "grade                 7.00\n",
      "sqft_above         1560.00\n",
      "sqft_basement         0.00\n",
      "yr_built           1975.00\n",
      "yr_renovated          0.00\n",
      "sqft_living15      1840.00\n",
      "sqft_lot15         7620.00\n",
      "dtype: float64\n",
      "standard deviation: \n",
      "price            367149.327332\n",
      "bedrooms              0.929870\n",
      "bathrooms             0.770085\n",
      "sqft_living         918.538221\n",
      "sqft_lot          41443.199880\n",
      "grade                 1.175540\n",
      "sqft_above          828.218416\n",
      "sqft_basement       442.624173\n",
      "yr_built             29.365908\n",
      "yr_renovated        401.694992\n",
      "sqft_living15       685.364986\n",
      "sqft_lot15        27316.243753\n",
      "dtype: float64\n",
      "first quantile: \n",
      "price            321987.50\n",
      "bedrooms              3.00\n",
      "bathrooms             1.75\n",
      "sqft_living        1430.00\n",
      "sqft_lot           5040.00\n",
      "grade                 7.00\n",
      "sqft_above         1190.00\n",
      "sqft_basement         0.00\n",
      "yr_built           1951.00\n",
      "yr_renovated          0.00\n",
      "sqft_living15      1490.00\n",
      "sqft_lot15         5100.00\n",
      "Name: 0.25, dtype: float64\n",
      "second quantile: \n",
      "price            450000.00\n",
      "bedrooms              3.00\n",
      "bathrooms             2.25\n",
      "sqft_living        1910.00\n",
      "sqft_lot           7620.00\n",
      "grade                 7.00\n",
      "sqft_above         1560.00\n",
      "sqft_basement         0.00\n",
      "yr_built           1975.00\n",
      "yr_renovated          0.00\n",
      "sqft_living15      1840.00\n",
      "sqft_lot15         7620.00\n",
      "Name: 0.5, dtype: float64\n",
      "third quantile: \n",
      "price            645000.00\n",
      "bedrooms              4.00\n",
      "bathrooms             2.50\n",
      "sqft_living        2550.00\n",
      "sqft_lot          10688.25\n",
      "grade                 8.00\n",
      "sqft_above         2210.00\n",
      "sqft_basement       560.00\n",
      "yr_built           1997.00\n",
      "yr_renovated          0.00\n",
      "sqft_living15      2360.00\n",
      "sqft_lot15        10083.25\n",
      "Name: 0.75, dtype: float64\n",
      "Unique in column price\n",
      "[ 221900.  538000.  180000. ...  610685. 1007500.  402101.]\n",
      "Unique in column bedrooms\n",
      "[ 3  2  4  5  1  6  7  0  8  9 11 10 33]\n",
      "Unique in column bathrooms\n",
      "[1.   2.25 3.   2.   4.5  1.5  2.5  1.75 2.75 3.25 4.   3.5  0.75 4.75\n",
      " 5.   4.25 3.75 0.   1.25 5.25 6.   0.5  5.5  6.75 5.75 8.   7.5  7.75\n",
      " 6.25 6.5 ]\n",
      "Unique in column sqft_living\n",
      "[1180. 2570.  770. ... 3087. 3118. 1425.]\n",
      "Unique in column sqft_lot\n",
      "[ 5650.  7242. 10000. ...  5813.  2388.  1076.]\n",
      "Unique in column grade\n",
      "[ 7  6  8 11  9  5 10 12  4  3 13  1]\n",
      "Unique in column sqft_above\n",
      "[1180. 2170.  770. 1050. 1680. 3890. 1715. 1060. 1890. 1860.  860. 1430.\n",
      " 1370. 1810. 1980. 1600. 1200. 1250. 2330. 2270. 1070. 2450. 1710. 1750.\n",
      " 1400.  790. 2570. 2320. 1190. 1510. 1090. 1280.  930. 2360.  890. 2620.\n",
      " 2600. 1570.  920. 3160.  990. 2290. 2165. 1640. 1000. 2130. 2830. 2250.\n",
      " 2420. 3250. 1850. 1590. 1260. 2519. 1540. 1110. 1770. 2720. 2240. 3070.\n",
      " 2380. 2390.  880. 1040.  910. 3450. 2350. 1900. 1010.  960. 2660. 1610.\n",
      "  765. 3520. 1290. 1960. 1160. 1210. 1270. 2190. 2920. 1460. 1170. 1240.\n",
      " 3140. 2030. 2310.  700. 1080. 2520. 2780. 1560. 1450. 1720. 2910. 1620.\n",
      " 1360. 2070. 1440. 2460. 1390. 2140. 1320. 1340.  940. 1380. 3670. 2370.\n",
      " 1130.  980. 3540. 2500. 1760. 1030. 3400. 2680. 1670. 2590.  820. 1220.\n",
      " 2440. 2090. 1100. 1330. 1420. 1690. 2150. 1910. 1350. 1940.  900. 1630.\n",
      " 1550. 2714.  850. 1870. 1950. 1780. 2020. 1120. 1480. 1230. 2280. 3760.\n",
      " 3530.  830. 1300. 2740. 1830. 2010. 3360.  800. 1730.  760. 1700. 4750.\n",
      " 5310.  580. 2653. 2850. 2210. 2630. 3500. 1740. 1140. 2160. 2650.  970.\n",
      " 2040. 2180. 2220. 1660. 3370. 2690. 1930. 3150. 3030. 2050. 2490. 2560.\n",
      " 1275. 2580.  560. 2760. 1820. 1840. 2990. 3230. 1580. 3480. 2510. 1410.\n",
      " 2120. 3300. 3840. 1500. 1530. 2840.  833. 2000. 6070.  950. 2200. 4040.\n",
      " 1920. 1490. 3470. 3130. 2610. 3260. 2260.  430. 3390.  630. 4860. 3860.\n",
      " 2810.  870. 3180. 2770. 4030. 4410. 2400. 1520. 3040. 6050. 4740. 1970.\n",
      " 5403. 3350.  720. 3580. 1790.  750. 2860. 2750. 2340. 2870. 4120. 3200.\n",
      " 2550. 1805. 4150. 1384. 2060. 2110. 3590. 2100. 2540. 1880. 1150. 1470.\n",
      " 1255. 1800. 4370. 3190. 2730. 4570. 2470.  670. 2900. 4670. 4230. 2156.\n",
      " 1020. 2940. 2640. 2710. 3100. 3610. 4270.  840. 3090. 2300.  380. 2480.\n",
      " 3460. 3060. 3064. 3000. 1654. 2790. 1310. 2230. 2430. 3680. 2670. 2208.\n",
      "  810.  740. 1422.  490. 2080. 3440. 5670. 4475.  730. 3410. 3010.  600.\n",
      " 2960. 3570. 4300. 3990.  780. 3020. 5990.  440. 4460. 4190. 2800. 2530.\n",
      " 1650. 3690. 2932. 3720. 4250. 3110. 2963. 4930. 2950. 5000. 2452. 2820.\n",
      " 1981.  640. 2495. 2403. 5320. 6720.  660. 2341. 4210. 3830. 3280. 2980.\n",
      " 5153. 1990. 1646.  610.  710. 5450. 3504. 3210. 1782. 2930.  590. 4280.\n",
      "  680. 3880. 3430. 3750. 4130. 5710. 3380. 3330. 4700. 3220. 3362. 3510.\n",
      " 3810.  620. 4490. 2410. 3050. 1008. 3488. 4070. 3420. 5770. 1605.  520.\n",
      " 1088. 3555. 4360. 3960. 2700. 4340. 1552. 3850. 2303. 3270. 4350. 3640.\n",
      " 2174. 4160. 2496. 5180. 5130. 6350. 3770. 2153. 3780. 2890. 1714. 2201.\n",
      " 2970.  992. 3950. 3527. 2835. 3915. 1427. 4870. 3340. 3620. 4310. 3930.\n",
      " 4080. 5400.  570. 3310. 6110. 3320. 3490. 3859. 3710. 1798. 4600. 3560.\n",
      " 3940. 3600. 3800. 1105. 2305. 3290. 5050. 1556. 1553. 4000. 1657. 3001.\n",
      " 4220.  480. 3120. 3740.  530. 3700. 5230. 5370. 3080. 4140. 4430. 3550.\n",
      " 1159. 1288. 2880. 4610. 1122. 3052. 1479. 7680. 3820. 1934. 5080. 2675.\n",
      " 2506. 5760. 2154. 4390. 3240. 1995. 1689. 2782. 2395. 4400. 6200. 3526.\n",
      " 4320. 2483. 4380. 4580. 4180. 2064. 3650. 1726. 2019. 4240. 1256.  500.\n",
      " 1355. 1747. 1678. 1833. 1414. 4115. 3597. 3170.  390. 1976. 5830. 2601.\n",
      " 3920. 2641. 5070. 2518. 3910. 3660. 3695. 4020. 2803. 2074. 2038. 4060.\n",
      " 4890. 2329. 1264. 1095.  690. 4090. 1392. 2844.  902. 4560. 2811. 4720.\n",
      " 2168. 5610. 2683. 4900. 2095. 4290. 4050. 4260. 4440. 6220. 1175.  998.\n",
      " 2356. 4500. 3900. 3831. 1315. 4470. 4810. 2286. 2927. 4760. 8570. 5140.\n",
      " 1679. 1811. 2849. 1676. 1757. 3730. 2441. 2163. 5250. 2795. 2415. 3970.\n",
      " 4200. 1068. 5240. 1509. 1954. 4820. 1651. 4100. 1752. 3630. 2885. 3154.\n",
      " 1129. 2632. 1996. 4010.  550.  410. 6430. 3790. 2031. 1652. 2434. 3316.\n",
      " 1899. 2331. 2497. 2216. 4170. 1341. 1961. 5584. 8860. 2507. 5220. 4850.\n",
      " 5844. 5530. 2145.  650. 1982. 4910. 3605. 1778. 1463. 2783. 1946. 1358.\n",
      " 3870. 1864. 1845. 6290. 3980. 2382. 2979. 3674. 2726. 5440. 1295. 2115.\n",
      " 6085. 3265. 3136. 6640. 4620. 3361. 2245. 2242. 1078. 2577. 1329.  420.\n",
      " 4330. 1975. 7420. 1788. 2299. 1092. 4225. 1087. 1904.  470. 2966. 2192.\n",
      " 2253. 5550. 4133. 4285. 1216.  540. 9410. 2075. 5330. 2166. 1628. 1808.\n",
      " 1352. 2557. 6380. 7880. 2734. 1363. 1769. 2093. 1677. 2588. 5190. 2298.\n",
      " 1491. 2961. 5020. 5980. 4540.  844. 6120. 2233. 4480. 4110. 4770. 2473.\n",
      "  995. 5160. 1494. 2007. 1048. 3002. 4780. 2155. 2014. 4980. 2665. 4830.\n",
      " 4790. 5010.  370. 2105. 3006. 3004. 2689. 4660. 1746. 2678. 2755. 2414.\n",
      "  901. 4630. 2068. 2807. 2643. 2181. 4510. 4420. 1604. 1435. 3045. 2717.\n",
      " 2905. 4940. 5110. 2533. 6660. 3485. 2659. 5090. 2375. 1964.  866. 1595.\n",
      "  944. 5480.  809. 5040. 1764. 1656. 1802.  460. 2692. 1544. 2044. 1212.\n",
      " 4083. 8020. 3905. 1502. 4590.  384. 2092. 6090. 1615. 7320. 1396. 1484.\n",
      " 1765. 5490. 1453. 1643. 5300. 1381. 4065.  290. 1313. 5430. 1397. 2793.\n",
      " 2475. 1936. 3028.  798. 2575. 3276. 1584. 2393. 2029. 3222. 1072. 1785.\n",
      " 1984.  962. 2423. 2052. 2538. 2437. 2789. 2906. 4800. 7850. 2196. 1847.\n",
      " 2658. 2655. 3855. 1728.  963. 2223. 1611. 2015. 2448. 1489. 1116. 3745.\n",
      " 1002. 3202. 1347. 1481. 2311. 2544. 2584. 2217. 3569. 3181. 1921. 2612.\n",
      " 2671. 2598. 3284. 3266. 1076. 2594. 2718. 1794. 2481. 3845. 1413. 1876.\n",
      " 3148. 2413. 1767. 5060.  806. 2547. 1834. 2024. 1165. 2134. 1741. 2798.\n",
      " 1852. 2099. 3216. 1094. 2891. 2432. 2283. 2701. 1658.  893. 2009. 1444.\n",
      " 2744. 3078. 3065. 1578. 2815. 4960. 1571. 6530. 4640. 1536. 3172. 6370.\n",
      " 3223. 1608. 2229. 3135. 1408. 1763. 4840. 1232. 2502. 2424. 1296. 1914.\n",
      "  988. 3828. 3056. 2267. 1131. 2796. 1812. 1084. 2025. 1564. 1239. 2568.\n",
      " 1528. 2628. 2185. 2669. 1912. 2828. 2425. 1446. 3206. 2406. 1419. 2056.\n",
      " 1144. 2456. 4950. 3192.  828. 2529. 1987. 3906. 4073. 2578. 2738. 3691.\n",
      " 1061. 2846. 2542. 1889. 3336. 3236. 1451. 1983. 2313. 1824. 1322. 1766.\n",
      " 2301. 3274. 1108. 2864. 2716. 1572. 3281. 2656. 2398. 1867. 1613. 2587.\n",
      " 2623.  894. 1606. 2244. 2026. 2238. 2517. 2708. 2555. 1405. 4450. 1248.\n",
      " 6420. 2531. 1333. 2198. 3087. 3118. 1425.]\n",
      "Unique in column sqft_basement\n",
      "[   0  400  910 1530  730 1700  300  970  760  720  700  820  780  790\n",
      "  330 1620  360  588 1510  410  990  600  560  550 1000 1600  500 1040\n",
      "  880 1010  240  265  290  800  380  710  840  770  480  570 1490  620\n",
      " 1250  120  650  180 1130  450 1640 1460 1020 1030  750  640 1070  490\n",
      " 1310  630 2000  390  430  850  210 1430 1950  440  220 1160  860  580\n",
      " 2060 1820 1180  200 1150 1200  680  530 1450 1170 1080  960 1100  280\n",
      "  870 1400 1320  660 1220  900  420 1580 1380  475  690  270  350  935\n",
      " 1370  980 1470  160  950  460   50  740 1780 1900  340  470  370  540\n",
      "  140 1760  130  610  520  890 1110  150 1720  810  190 1290  670 1800\n",
      " 1120 1810   60 1050  940  310  930 1390 1830 1300  510 1330 1590  920\n",
      " 1270 1420 1240 1960 1560 2020 1190 2110 1280  250 2390 1230  170  830\n",
      " 1260 1410 1340  590 1500 1140  260  100  320 1480 1060 1284 1670 1350\n",
      " 2570 2590 1090  110 2500   90 1940 1550 2350 2490 1481 1360 1135 1520\n",
      " 1850 1660 2130 2600 1690  243 1210 2620 1024 1798 1610 1440 1570 1650\n",
      "  704 1910 1630 2360 1852 2090 2400 1790 2150  230   70 1680 2100 3000\n",
      " 1870 1710 2030  875 1540 2850 2170  506  906  145 2040  784 1750  374\n",
      "  518 2720 2730 1840 3480 2160 1920 2330 1860 2050 4820 1913   80 2010\n",
      " 3260 2200  415 1730  652 2196 1930  515   40 2080 2580 1548 1740  235\n",
      "  861 1890 2220  792 2070 4130 2250 2240  894 1990  768 2550  435 1008\n",
      " 2300 2610  666 3500  172 1816 2190 1245 1525 1880  862  946 1281  414\n",
      " 2180  276 1248  602  516  176  225 1275  266  283   65 2310   10 1770\n",
      " 2120  295  207  915  556  417  143  508 2810   20  274  248]\n",
      "Unique in column yr_built\n",
      "[1955. 1951. 1933. 1965. 1987. 2001. 1995. 1963. 1960. 2003. 1942. 1927.\n",
      " 1977. 1900. 1979. 1994. 1916. 1921. 1969. 1947. 1968. 1985. 1941. 1915.\n",
      " 1909. 1948. 2005. 1929. 1981. 1930. 1904. 1996. 2000. 1984. 1922. 1959.\n",
      " 1966. 1953. 1950. 2008. 1991. 1954. 1973. 2014. 1925. 1989. 1972. 1986.\n",
      " 1956. 2002. 1992. 1964. 1952. 1961. 2006. 1988. 1962. 1939. 1946. 1967.\n",
      " 1975. 1980. 1910. 1983. 1978. 1905. 1971. 2010. 1945. 1924. 1990. 1914.\n",
      " 1926. 2004. 1923. 2007. 1976. 1949. 1999. 1901. 1993. 1920. 1997. 1943.\n",
      " 1957. 1940. 1918. 1928. 1974. 1911. 1936. 1937. 1982. 1908. 1931. 1998.\n",
      " 1913. 2013. 1907. 1958. 2012. 1912. 2011. 1917. 1932. 1944. 1902. 2009.\n",
      " 1903. 1970. 2015. 1934. 1938. 1919. 1906. 1935.]\n",
      "Unique in column yr_renovated\n",
      "[   0. 1991. 2002. 2010. 1999. 1992. 2013. 1994. 1978. 2005. 2008. 2003.\n",
      " 1984. 1954. 2014. 2011. 1974. 1983. 1945. 1990. 1988. 1957. 1977. 1981.\n",
      " 1995. 2000. 1998. 1970. 1989. 2004. 1986. 2009. 2007. 1987. 1973. 2006.\n",
      " 1985. 2001. 1980. 1971. 1979. 1997. 1950. 1969. 1948. 2015. 1968. 2012.\n",
      " 1963. 1951. 1993. 1962. 1996. 1972. 1953. 1955. 1982. 1956. 1940. 1976.\n",
      " 1946. 1975. 1958. 1964. 1959. 1960. 1967. 1965. 1934. 1944.]\n",
      "Unique in column sqft_living15\n",
      "[1340. 1690. 2720. 1360. 1800. 4760. 2238. 1650. 1780. 2390. 2210. 1330.\n",
      " 1370. 2140. 1890. 1610. 1060. 1280. 1400. 4110. 2240. 1220. 2200. 1030.\n",
      " 1760. 1860. 1520. 2630. 2580. 1390. 1460. 1570. 2020. 1590. 2160. 1730.\n",
      " 1290. 2620. 2470. 2410. 1580. 3050. 1228. 2680.  970. 1190. 1990. 1410.\n",
      " 1480. 2730. 1950. 2250. 2690. 2960. 2270. 2570. 2500. 1440. 2750. 2221.\n",
      " 1010. 3390. 3530. 1640. 1510. 2420. 1940. 3240. 1680.  890. 1130. 3350.\n",
      " 2350. 1870. 1720. 1850. 1900. 1980. 2520. 1350. 1750. 1160. 2550. 2370.\n",
      " 1240. 1270. 2990. 1380. 1540. 2090. 2640. 1830. 1620. 1880. 2340. 1710.\n",
      " 2700. 3060. 2660. 1700. 1970. 1420. 2060. 2480. 1550. 1170. 1560. 2230.\n",
      " 2840. 1450. 1500. 3160. 3400. 2110. 2920. 1770. 1070. 1930. 3740. 2260.\n",
      " 1200. 1670. 2290. 1050. 2540. 2190. 2030. 2330. 1300. 1430. 2770. 1250.\n",
      " 1630. 2590. 2130. 1100. 3836. 1320. 2120. 1910. 2080. 1960. 2280. 1150.\n",
      " 3430. 2070. 2600.  830. 1260. 3120. 2010. 1660. 1600. 2380. 1230. 3890.\n",
      " 4180. 2653. 2670. 3920. 2300. 2310. 3150. 1740. 2400. 4550. 2510. 2440.\n",
      " 2880. 3860. 2150. 1310. 1820. 3080. 2320.  880. 2560. 3470. 1020. 2040.\n",
      " 2610. 1810. 2860. 3480. 3130. 3360. 4050. 2450. 1790. 3180. 3600. 2000.\n",
      " 2430. 2850. 4680. 2360. 3930. 1490. 2460. 2077. 1920. 3630. 3220. 2100.\n",
      " 3230. 2820. 4300. 3850. 2424. 2530. 3030. 2830. 2900. 2950. 1470.  940.\n",
      " 2740. 4210. 3340. 3980. 2180. 3715. 2050. 1080. 2095. 1000. 3330. 3070.\n",
      " 2170. 1408. 1530. 2760. 3110.  950. 3000. 1307. 2220. 4190. 3440. 3250.\n",
      " 1110. 2870. 1210. 2910. 1120. 4230. 1708. 3090. 3270. 2970. 1180. 3100.\n",
      " 4100. 2930. 3510. 2688. 1840. 2490. 4090. 2810. 3260. 3680. 3420. 1654.\n",
      " 1365.  980. 1677. 1140. 3640. 3460. 3140. 1502. 3720. 2790. 2940.  990.\n",
      " 2890.  860. 4750. 1525. 3950. 5790.  760. 2234.  960. 3210. 2780. 2800.\n",
      " 2305. 2665. 3620. 2710. 4320. 2650. 3370. 1509. 1277. 1981. 2434. 4640.\n",
      " 2242. 3040. 3970. 3200. 4600.  840. 3290. 2214. 1162. 3010. 5600. 3820.\n",
      " 3540. 1975. 4800.  740. 3990. 3170. 1576. 1768. 3310. 2980. 1429. 3900.\n",
      " 3380.  820. 1090. 4060. 3910. 3190. 3450. 3730.  620. 3020. 3760. 3320.\n",
      " 1132. 3300. 3770. 3960.  870. 3560. 4620. 3520. 1572. 3490. 1088. 3159.\n",
      " 4470. 3570. 4890. 3690. 3280. 2083. 3780.  920. 1941. 1566.  850. 2496.\n",
      " 1040. 3410. 4240. 4670. 4350. 1714. 5380. 4330. 3830. 5000. 2144. 1494.\n",
      " 1357.  930. 3580. 4250. 4080. 3660. 1458. 3736. 1894. 2037. 1295. 4170.\n",
      " 3750. 3550. 4630. 1439. 3500. 2091.  900. 3880. 3710. 1616.  720.  800.\n",
      " 2315. 1564. 2767. 3721. 4650. 4020.  780. 1728. 2027. 1264. 1404. 1459.\n",
      " 2028. 3639. 1943. 3425. 2641. 2114. 1309. 2412. 2517. 1802. 2011. 1466.\n",
      " 1414. 3193. 1845. 1156. 3670. 1696. 5340. 4440. 1745. 1884. 4690. 4920.\n",
      " 2406. 4160. 3810. 4480. 2848. 1746. 2634. 2049. 5330. 1536. 2273. 3056.\n",
      " 4010. 4700.  910. 2125. 1665. 2683. 3790.  700. 1855.  750. 1078. 4150.\n",
      " 4340. 2344. 1098. 1175. 1188. 3700. 3840. 4042. 2518. 3800. 2488. 3590.\n",
      " 2052.  810. 1528. 5030. 4740. 5070. 2967. 4280. 2724. 3610. 3940. 4940.\n",
      " 4770. 1811. 4830. 2876. 1805. 1216. 5170. 1304. 2474. 4590. 4130. 1492.\n",
      " 1364. 2168. 4140. 3543. 1303. 2005. 3650. 2583. 4310. 2451. 1448. 2955.\n",
      " 2142.  790. 1638. 2554. 2441. 2216. 4220. 1961. 4540.  770. 3625. 4200.\n",
      " 3413. 1664. 2136. 3568. 4510. 1484. 1358. 2106. 1834. 2014. 4390. 4570.\n",
      " 2175. 6110. 4260.  710. 2112. 1934. 1518. 1302. 2622. 2619. 2382. 4290.\n",
      " 4560. 4000. 1336. 3112. 4070. 1468. 1571. 2605. 1138. 5110. 4850. 2165.\n",
      " 4410. 1678. 5610. 1984. 4660. 3870. 4370.  460. 4610. 1914. 3515. 2246.\n",
      " 1786. 2109. 2326. 2728. 4400. 4950. 1767. 2054. 5500. 2555. 3674. 2765.\n",
      " 1862. 1352. 4030.  399. 2415. 2901. 1815. 2236. 2253. 2004. 1356. 2403.\n",
      " 1137. 1256. 4930. 4040. 2376. 4520. 4490. 2189. 2566. 2396. 1282. 2155.\n",
      " 1056. 2389. 2256. 3618. 1326. 1168. 4913.  806. 1369. 2405. 2875. 1425.\n",
      " 5220. 1442. 2333. 3335. 1321. 3045. 1546. 4730. 2697. 2822. 2076. 1757.\n",
      " 4780.  952. 4270. 2075. 2667. 1092. 1217. 1716. 1792. 2961. 1125. 1463.\n",
      " 1886.  670. 4460. 2336. 3557. 5200. 2258. 1377. 2019. 2092. 4900. 2615.\n",
      " 1639. 1765. 1554. 1381. 4120. 5080. 1445. 2793. 2475.  998. 2384. 2575.\n",
      " 1398. 1584. 2439. 2197. 2029. 4362. 1443. 4420. 1691. 2495. 2437. 2547.\n",
      " 6210. 2009. 1847. 1346. 2578. 2879. 2255. 2815. 1608.  690. 2425. 1481.\n",
      " 2458. 2358. 2056. 1921. 2419. 2996. 2502. 1798. 3087. 1076. 2981. 2363.\n",
      " 3191. 1763. 1876. 1949. 2598. 1979. 1415. 2002. 2574. 2166. 3726. 2099.\n",
      " 2154. 1522. 1544. 2912. 2648. 1658. 2755. 2798. 1405. 2704. 2738. 3008.\n",
      " 2586. 2873. 1232. 2597. 2516. 1537. 1128. 2849. 1399. 1131. 1569. 2381.\n",
      " 1084. 2304. 4530. 2297. 2303. 2669. 4225. 2513. 2725. 1955. 2527. 4443.\n",
      " 2478. 1919. 1813. 2533.  828. 2015. 4495. 2673. 2316. 2647. 3402. 3494.\n",
      " 2156. 3236. 2612. 2323. 2409. 2354. 1285. 2616. 1427. 1516. 2456. 2844.\n",
      " 1495. 2594. 2604. 1268. 2198. 3038. 2927.]\n",
      "Unique in column sqft_lot15\n",
      "[5650 7639 8062 ... 5731 1509 2007]\n"
     ]
    }
   ],
   "source": [
    "# To-Do : get to know more your data WITHOUT modifying it !!\n",
    "print(\"mean: \")\n",
    "print(df.mean())\n",
    "print(\"median: \")\n",
    "print(df.median())\n",
    "print(\"standard deviation: \")\n",
    "print(df.std())\n",
    "print(\"first quantile: \")\n",
    "print(df.quantile(0.25))\n",
    "print(\"second quantile: \")\n",
    "print(df.quantile(0.5))\n",
    "print(\"third quantile: \")\n",
    "print(df.quantile(0.75))\n",
    "\n",
    "for x in list(df.keys()):\n",
    "    print(\"Unique in column \"+x)\n",
    "    print(pd.unique(df[x]))\n"
   ]
  },
  {
   "cell_type": "markdown",
   "metadata": {},
   "source": [
    "### 6.Outliers detection:<a id='outliers'></a>\n",
    "Having outliers is a common problem that might affect the quality of the model that we're building.\n",
    "\n",
    "Let's assume that we're not interested in very expensive or very cheap houses, we want a model that best fits the average priced houses.\n",
    "\n",
    "To create such a model, we detect outliers and delete them using the Z-score method seen in the lessons."
   ]
  },
  {
   "cell_type": "code",
   "execution_count": 28,
   "metadata": {},
   "outputs": [
    {
     "name": "stdout",
     "output_type": "stream",
     "text": [
      "          price  bedrooms  bathrooms  sqft_living  sqft_lot  grade  \\\n",
      "0      221900.0         3       1.00       1180.0    5650.0      7   \n",
      "1      538000.0         3       2.25       2570.0    7242.0      7   \n",
      "2      180000.0         2       1.00        770.0   10000.0      6   \n",
      "3      604000.0         4       3.00       1960.0    5000.0      7   \n",
      "4      510000.0         3       2.00       1680.0    8080.0      8   \n",
      "...         ...       ...        ...          ...       ...    ...   \n",
      "21608  360000.0         3       2.50       1530.0    1131.0      8   \n",
      "21609  400000.0         4       2.50       2310.0    5813.0      8   \n",
      "21610  402101.0         2       0.75       1020.0    1350.0      7   \n",
      "21611  400000.0         3       2.50       1600.0    2388.0      8   \n",
      "21612  325000.0         2       0.75       1020.0    1076.0      7   \n",
      "\n",
      "       sqft_above  sqft_basement  yr_built  yr_renovated  sqft_living15  \\\n",
      "0          1180.0              0    1955.0           0.0         1340.0   \n",
      "1          2170.0            400    1951.0        1991.0         1690.0   \n",
      "2           770.0              0    1933.0           0.0         2720.0   \n",
      "3          1050.0            910    1965.0           0.0         1360.0   \n",
      "4          1680.0              0    1987.0           0.0         1800.0   \n",
      "...           ...            ...       ...           ...            ...   \n",
      "21608      1530.0              0    2009.0           0.0         1530.0   \n",
      "21609      2310.0              0    2014.0           0.0         1830.0   \n",
      "21610      1020.0              0    2009.0           0.0         1020.0   \n",
      "21611      1600.0              0    2004.0           0.0         1410.0   \n",
      "21612      1020.0              0    2008.0           0.0         1020.0   \n",
      "\n",
      "       sqft_lot15  \n",
      "0            5650  \n",
      "1            7639  \n",
      "2            8062  \n",
      "3            5000  \n",
      "4            7503  \n",
      "...           ...  \n",
      "21608        1509  \n",
      "21609        7200  \n",
      "21610        2007  \n",
      "21611        1287  \n",
      "21612        1357  \n",
      "\n",
      "[21120 rows x 12 columns]\n"
     ]
    }
   ],
   "source": [
    "# To-Do : detect the outliers then delete them ad delete the column created to calculate the Z-score\n",
    "df['z-score-sqft_living']=(df.sqft_living - df.sqft_living.mean() )/df.sqft_living.std()\n",
    "df = df[df['z-score-sqft_living']<3]\n",
    "df['z-score-sqft_above']=(df.sqft_above - df.sqft_above.mean() )/df.sqft_above.std()\n",
    "df=df[df['z-score-sqft_above']<3]\n",
    "df = df.drop(['z-score-sqft_above','z-score-sqft_living'],axis = 1)\n",
    "print(df)"
   ]
  },
  {
   "cell_type": "code",
   "execution_count": 29,
   "metadata": {},
   "outputs": [
    {
     "name": "stdout",
     "output_type": "stream",
     "text": [
      "<class 'pandas.core.frame.DataFrame'>\n",
      "Int64Index: 21120 entries, 0 to 21612\n",
      "Data columns (total 12 columns):\n",
      " #   Column         Non-Null Count  Dtype  \n",
      "---  ------         --------------  -----  \n",
      " 0   price          21120 non-null  float64\n",
      " 1   bedrooms       21120 non-null  int64  \n",
      " 2   bathrooms      21120 non-null  float64\n",
      " 3   sqft_living    21120 non-null  float64\n",
      " 4   sqft_lot       21120 non-null  float64\n",
      " 5   grade          21120 non-null  int64  \n",
      " 6   sqft_above     21120 non-null  float64\n",
      " 7   sqft_basement  21120 non-null  int64  \n",
      " 8   yr_built       21120 non-null  float64\n",
      " 9   yr_renovated   21120 non-null  float64\n",
      " 10  sqft_living15  21120 non-null  float64\n",
      " 11  sqft_lot15     21120 non-null  int64  \n",
      "dtypes: float64(8), int64(4)\n",
      "memory usage: 2.1 MB\n"
     ]
    }
   ],
   "source": [
    "df.info()"
   ]
  },
  {
   "cell_type": "markdown",
   "metadata": {},
   "source": [
    "### 7.Feature selection:<a id='feature_selection'></a>\n",
    "It is clear that even after deleting some features, there might be other features that aren't obviously useless but can be delted and keep a good overall performance.\n",
    "\n",
    "To verify this, we perform feature selection on our variables."
   ]
  },
  {
   "cell_type": "code",
   "execution_count": 30,
   "metadata": {},
   "outputs": [
    {
     "name": "stdout",
     "output_type": "stream",
     "text": [
      "correlation:\n",
      "price             True\n",
      "bedrooms         False\n",
      "bathrooms        False\n",
      "sqft_living       True\n",
      "sqft_lot         False\n",
      "grade             True\n",
      "sqft_above        True\n",
      "sqft_basement    False\n",
      "yr_built         False\n",
      "yr_renovated     False\n",
      "sqft_living15     True\n",
      "sqft_lot15       False\n",
      "Name: price, dtype: bool\n",
      "['sqft_living', 'grade', 'sqft_above', 'sqft_living15']\n"
     ]
    },
    {
     "data": {
      "image/png": "[encoded data removed]",
      "text/plain": [
       "<Figure size 432x288 with 2 Axes>"
      ]
     },
     "metadata": {
      "needs_background": "light"
     },
     "output_type": "display_data"
    }
   ],
   "source": [
    "# To-Do : perform feature selection using correlation\n",
    "print('correlation:')\n",
    "df.corr()\n",
    "# here we use Filter methods .We will be using the correlation coefficient(Pearson's test)\n",
    "sns.heatmap(df.corr())\n",
    "#take only columns that have >0,5 with price\n",
    "var  = df.corr()[\"price\"]>0.5\n",
    "print(var)\n",
    "variables = []\n",
    "for x in var.keys():\n",
    "    if (var[x]):\n",
    "        variables.append(x)\n",
    "variables.remove(\"price\")\n",
    "print(variables)"
   ]
  },
  {
   "cell_type": "code",
   "execution_count": 36,
   "metadata": {},
   "outputs": [
    {
     "name": "stdout",
     "output_type": "stream",
     "text": [
      "['grade', 'sqft_living15']\n"
     ]
    },
    {
     "ename": "KeyError",
     "evalue": "\"['sqft_above', 'sqft_living'] not found in axis\"",
     "output_type": "error",
     "traceback": [
      "\u001b[1;31m---------------------------------------------------------------------------\u001b[0m",
      "\u001b[1;31mKeyError\u001b[0m                                  Traceback (most recent call last)",
      "Input \u001b[1;32mIn [36]\u001b[0m, in \u001b[0;36m<module>\u001b[1;34m\u001b[0m\n\u001b[0;32m      1\u001b[0m \u001b[38;5;66;03m# To-Do : drop the variables that seem highly correlated to you\u001b[39;00m\n\u001b[0;32m      4\u001b[0m \u001b[38;5;28mprint\u001b[39m(variables)\n\u001b[1;32m----> 5\u001b[0m df\u001b[38;5;241m=\u001b[39m\u001b[43mdf\u001b[49m\u001b[38;5;241;43m.\u001b[39;49m\u001b[43mdrop\u001b[49m\u001b[43m(\u001b[49m\u001b[43m[\u001b[49m\u001b[38;5;124;43m'\u001b[39;49m\u001b[38;5;124;43msqft_above\u001b[39;49m\u001b[38;5;124;43m'\u001b[39;49m\u001b[43m,\u001b[49m\u001b[38;5;124;43m'\u001b[39;49m\u001b[38;5;124;43msqft_living\u001b[39;49m\u001b[38;5;124;43m'\u001b[39;49m\u001b[43m]\u001b[49m\u001b[43m,\u001b[49m\u001b[43maxis\u001b[49m\u001b[38;5;241;43m=\u001b[39;49m\u001b[38;5;241;43m1\u001b[39;49m\u001b[43m)\u001b[49m\n",
      "File \u001b[1;32mc:\\python\\lib\\site-packages\\pandas\\util\\_decorators.py:311\u001b[0m, in \u001b[0;36mdeprecate_nonkeyword_arguments.<locals>.decorate.<locals>.wrapper\u001b[1;34m(*args, **kwargs)\u001b[0m\n\u001b[0;32m    305\u001b[0m \u001b[38;5;28;01mif\u001b[39;00m \u001b[38;5;28mlen\u001b[39m(args) \u001b[38;5;241m>\u001b[39m num_allow_args:\n\u001b[0;32m    306\u001b[0m     warnings\u001b[38;5;241m.\u001b[39mwarn(\n\u001b[0;32m    307\u001b[0m         msg\u001b[38;5;241m.\u001b[39mformat(arguments\u001b[38;5;241m=\u001b[39marguments),\n\u001b[0;32m    308\u001b[0m         \u001b[38;5;167;01mFutureWarning\u001b[39;00m,\n\u001b[0;32m    309\u001b[0m         stacklevel\u001b[38;5;241m=\u001b[39mstacklevel,\n\u001b[0;32m    310\u001b[0m     )\n\u001b[1;32m--> 311\u001b[0m \u001b[38;5;28;01mreturn\u001b[39;00m func(\u001b[38;5;241m*\u001b[39margs, \u001b[38;5;241m*\u001b[39m\u001b[38;5;241m*\u001b[39mkwargs)\n",
      "File \u001b[1;32mc:\\python\\lib\\site-packages\\pandas\\core\\frame.py:4956\u001b[0m, in \u001b[0;36mDataFrame.drop\u001b[1;34m(self, labels, axis, index, columns, level, inplace, errors)\u001b[0m\n\u001b[0;32m   4808\u001b[0m \u001b[38;5;129m@deprecate_nonkeyword_arguments\u001b[39m(version\u001b[38;5;241m=\u001b[39m\u001b[38;5;28;01mNone\u001b[39;00m, allowed_args\u001b[38;5;241m=\u001b[39m[\u001b[38;5;124m\"\u001b[39m\u001b[38;5;124mself\u001b[39m\u001b[38;5;124m\"\u001b[39m, \u001b[38;5;124m\"\u001b[39m\u001b[38;5;124mlabels\u001b[39m\u001b[38;5;124m\"\u001b[39m])\n\u001b[0;32m   4809\u001b[0m \u001b[38;5;28;01mdef\u001b[39;00m \u001b[38;5;21mdrop\u001b[39m(\n\u001b[0;32m   4810\u001b[0m     \u001b[38;5;28mself\u001b[39m,\n\u001b[1;32m   (...)\u001b[0m\n\u001b[0;32m   4817\u001b[0m     errors: \u001b[38;5;28mstr\u001b[39m \u001b[38;5;241m=\u001b[39m \u001b[38;5;124m\"\u001b[39m\u001b[38;5;124mraise\u001b[39m\u001b[38;5;124m\"\u001b[39m,\n\u001b[0;32m   4818\u001b[0m ):\n\u001b[0;32m   4819\u001b[0m     \u001b[38;5;124;03m\"\"\"\u001b[39;00m\n\u001b[0;32m   4820\u001b[0m \u001b[38;5;124;03m    Drop specified labels from rows or columns.\u001b[39;00m\n\u001b[0;32m   4821\u001b[0m \n\u001b[1;32m   (...)\u001b[0m\n\u001b[0;32m   4954\u001b[0m \u001b[38;5;124;03m            weight  1.0     0.8\u001b[39;00m\n\u001b[0;32m   4955\u001b[0m \u001b[38;5;124;03m    \"\"\"\u001b[39;00m\n\u001b[1;32m-> 4956\u001b[0m     \u001b[38;5;28;01mreturn\u001b[39;00m \u001b[38;5;28;43msuper\u001b[39;49m\u001b[43m(\u001b[49m\u001b[43m)\u001b[49m\u001b[38;5;241;43m.\u001b[39;49m\u001b[43mdrop\u001b[49m\u001b[43m(\u001b[49m\n\u001b[0;32m   4957\u001b[0m \u001b[43m        \u001b[49m\u001b[43mlabels\u001b[49m\u001b[38;5;241;43m=\u001b[39;49m\u001b[43mlabels\u001b[49m\u001b[43m,\u001b[49m\n\u001b[0;32m   4958\u001b[0m \u001b[43m        \u001b[49m\u001b[43maxis\u001b[49m\u001b[38;5;241;43m=\u001b[39;49m\u001b[43maxis\u001b[49m\u001b[43m,\u001b[49m\n\u001b[0;32m   4959\u001b[0m \u001b[43m        \u001b[49m\u001b[43mindex\u001b[49m\u001b[38;5;241;43m=\u001b[39;49m\u001b[43mindex\u001b[49m\u001b[43m,\u001b[49m\n\u001b[0;32m   4960\u001b[0m \u001b[43m        \u001b[49m\u001b[43mcolumns\u001b[49m\u001b[38;5;241;43m=\u001b[39;49m\u001b[43mcolumns\u001b[49m\u001b[43m,\u001b[49m\n\u001b[0;32m   4961\u001b[0m \u001b[43m        \u001b[49m\u001b[43mlevel\u001b[49m\u001b[38;5;241;43m=\u001b[39;49m\u001b[43mlevel\u001b[49m\u001b[43m,\u001b[49m\n\u001b[0;32m   4962\u001b[0m \u001b[43m        \u001b[49m\u001b[43minplace\u001b[49m\u001b[38;5;241;43m=\u001b[39;49m\u001b[43minplace\u001b[49m\u001b[43m,\u001b[49m\n\u001b[0;32m   4963\u001b[0m \u001b[43m        \u001b[49m\u001b[43merrors\u001b[49m\u001b[38;5;241;43m=\u001b[39;49m\u001b[43merrors\u001b[49m\u001b[43m,\u001b[49m\n\u001b[0;32m   4964\u001b[0m \u001b[43m    \u001b[49m\u001b[43m)\u001b[49m\n",
      "File \u001b[1;32mc:\\python\\lib\\site-packages\\pandas\\core\\generic.py:4279\u001b[0m, in \u001b[0;36mNDFrame.drop\u001b[1;34m(self, labels, axis, index, columns, level, inplace, errors)\u001b[0m\n\u001b[0;32m   4277\u001b[0m \u001b[38;5;28;01mfor\u001b[39;00m axis, labels \u001b[38;5;129;01min\u001b[39;00m axes\u001b[38;5;241m.\u001b[39mitems():\n\u001b[0;32m   4278\u001b[0m     \u001b[38;5;28;01mif\u001b[39;00m labels \u001b[38;5;129;01mis\u001b[39;00m \u001b[38;5;129;01mnot\u001b[39;00m \u001b[38;5;28;01mNone\u001b[39;00m:\n\u001b[1;32m-> 4279\u001b[0m         obj \u001b[38;5;241m=\u001b[39m \u001b[43mobj\u001b[49m\u001b[38;5;241;43m.\u001b[39;49m\u001b[43m_drop_axis\u001b[49m\u001b[43m(\u001b[49m\u001b[43mlabels\u001b[49m\u001b[43m,\u001b[49m\u001b[43m \u001b[49m\u001b[43maxis\u001b[49m\u001b[43m,\u001b[49m\u001b[43m \u001b[49m\u001b[43mlevel\u001b[49m\u001b[38;5;241;43m=\u001b[39;49m\u001b[43mlevel\u001b[49m\u001b[43m,\u001b[49m\u001b[43m \u001b[49m\u001b[43merrors\u001b[49m\u001b[38;5;241;43m=\u001b[39;49m\u001b[43merrors\u001b[49m\u001b[43m)\u001b[49m\n\u001b[0;32m   4281\u001b[0m \u001b[38;5;28;01mif\u001b[39;00m inplace:\n\u001b[0;32m   4282\u001b[0m     \u001b[38;5;28mself\u001b[39m\u001b[38;5;241m.\u001b[39m_update_inplace(obj)\n",
      "File \u001b[1;32mc:\\python\\lib\\site-packages\\pandas\\core\\generic.py:4323\u001b[0m, in \u001b[0;36mNDFrame._drop_axis\u001b[1;34m(self, labels, axis, level, errors, consolidate, only_slice)\u001b[0m\n\u001b[0;32m   4321\u001b[0m         new_axis \u001b[38;5;241m=\u001b[39m axis\u001b[38;5;241m.\u001b[39mdrop(labels, level\u001b[38;5;241m=\u001b[39mlevel, errors\u001b[38;5;241m=\u001b[39merrors)\n\u001b[0;32m   4322\u001b[0m     \u001b[38;5;28;01melse\u001b[39;00m:\n\u001b[1;32m-> 4323\u001b[0m         new_axis \u001b[38;5;241m=\u001b[39m \u001b[43maxis\u001b[49m\u001b[38;5;241;43m.\u001b[39;49m\u001b[43mdrop\u001b[49m\u001b[43m(\u001b[49m\u001b[43mlabels\u001b[49m\u001b[43m,\u001b[49m\u001b[43m \u001b[49m\u001b[43merrors\u001b[49m\u001b[38;5;241;43m=\u001b[39;49m\u001b[43merrors\u001b[49m\u001b[43m)\u001b[49m\n\u001b[0;32m   4324\u001b[0m     indexer \u001b[38;5;241m=\u001b[39m axis\u001b[38;5;241m.\u001b[39mget_indexer(new_axis)\n\u001b[0;32m   4326\u001b[0m \u001b[38;5;66;03m# Case for non-unique axis\u001b[39;00m\n\u001b[0;32m   4327\u001b[0m \u001b[38;5;28;01melse\u001b[39;00m:\n",
      "File \u001b[1;32mc:\\python\\lib\\site-packages\\pandas\\core\\indexes\\base.py:6644\u001b[0m, in \u001b[0;36mIndex.drop\u001b[1;34m(self, labels, errors)\u001b[0m\n\u001b[0;32m   6642\u001b[0m \u001b[38;5;28;01mif\u001b[39;00m mask\u001b[38;5;241m.\u001b[39many():\n\u001b[0;32m   6643\u001b[0m     \u001b[38;5;28;01mif\u001b[39;00m errors \u001b[38;5;241m!=\u001b[39m \u001b[38;5;124m\"\u001b[39m\u001b[38;5;124mignore\u001b[39m\u001b[38;5;124m\"\u001b[39m:\n\u001b[1;32m-> 6644\u001b[0m         \u001b[38;5;28;01mraise\u001b[39;00m \u001b[38;5;167;01mKeyError\u001b[39;00m(\u001b[38;5;124mf\u001b[39m\u001b[38;5;124m\"\u001b[39m\u001b[38;5;132;01m{\u001b[39;00m\u001b[38;5;28mlist\u001b[39m(labels[mask])\u001b[38;5;132;01m}\u001b[39;00m\u001b[38;5;124m not found in axis\u001b[39m\u001b[38;5;124m\"\u001b[39m)\n\u001b[0;32m   6645\u001b[0m     indexer \u001b[38;5;241m=\u001b[39m indexer[\u001b[38;5;241m~\u001b[39mmask]\n\u001b[0;32m   6646\u001b[0m \u001b[38;5;28;01mreturn\u001b[39;00m \u001b[38;5;28mself\u001b[39m\u001b[38;5;241m.\u001b[39mdelete(indexer)\n",
      "\u001b[1;31mKeyError\u001b[0m: \"['sqft_above', 'sqft_living'] not found in axis\""
     ]
    }
   ],
   "source": [
    "# To-Do : drop the variables that seem highly correlated to you\n",
    "\n",
    "variables.remove(\"sqft_above\")\n",
    "variables.remove(\"sqft_living\")\n",
    "print(variables)\n",
    "df=df.drop(['sqft_above','sqft_living'],axis=1)\n"
   ]
  },
  {
   "cell_type": "markdown",
   "metadata": {},
   "source": [
    "### 8.Linear regression:<a id='linear_reg'></a>\n",
    "Now that our data is clean and ready to be used, let's try to fit it into a linear regression model.\n",
    "\n",
    "<ul>\n",
    "    <li>We begin by splitting our variables into dependant and independant variables.</li>\n",
    "    <li>We create the model using the LinearRegression class.</li>\n",
    "    <li>We evaluate our model using the R² score</li>\n",
    "</ul>"
   ]
  },
  {
   "cell_type": "code",
   "execution_count": 37,
   "metadata": {},
   "outputs": [],
   "source": [
    "# Splitting the data into dependant and independant variables\n",
    "Y = df['price']\n",
    "X = df.drop(['price'],axis = 1)\n",
    "X = X[variables]"
   ]
  },
  {
   "cell_type": "code",
   "execution_count": 38,
   "metadata": {},
   "outputs": [
    {
     "name": "stdout",
     "output_type": "stream",
     "text": [
      "PRICE = 128936.85686848835grade+117.72613110254767sqft_living15\n"
     ]
    }
   ],
   "source": [
    "from sklearn.linear_model import LinearRegression\n",
    "# To-Do : Create a linear regression model using the LinearRegression class then fit it to the data\n",
    "result = LinearRegression()\n",
    "result.fit(X,Y)\n",
    "st = \"PRICE = \"\n",
    "\n",
    "for i in range(len(variables)):\n",
    "    st += str(result.coef_[i])+variables[i]+\"+\"\n",
    " \n",
    "st = st[:-1]  \n",
    "print(st)"
   ]
  },
  {
   "cell_type": "code",
   "execution_count": 39,
   "metadata": {},
   "outputs": [
    {
     "data": {
      "text/plain": [
       "0.44531215649705946"
      ]
     },
     "execution_count": 39,
     "metadata": {},
     "output_type": "execute_result"
    }
   ],
   "source": [
    "# The function used to calculate the R² score is the method \"score\" found in the LinearRegression class\n",
    "result.score(X, Y)"
   ]
  },
  {
   "cell_type": "markdown",
   "metadata": {},
   "source": [
    "## Conclusion:\n",
    "Data preparation is a very important step in the machine learning pipeline. It is crucial to clean our data and understand it very well before we can create any model on the data.\n",
    "\n",
    "In this notebook, we have spent 4 steps preparing our data but only 1 to create the model. This reflects how time consuming the process of data preparation is compared to the other steps as well as the importance of the quality of the data used.\n",
    "\n",
    "In the next unit, we will see more about the models creation process and see a lot of important concepts in depth."
   ]
  },
  {
   "cell_type": "code",
   "execution_count": null,
   "metadata": {},
   "outputs": [],
   "source": []
  },
  {
   "cell_type": "code",
   "execution_count": null,
   "metadata": {},
   "outputs": [],
   "source": []
  }
 ],
 "metadata": {
  "kernelspec": {
   "display_name": "Python 3 (ipykernel)",
   "language": "python",
   "name": "python3"
  },
  "language_info": {
   "codemirror_mode": {
    "name": "ipython",
    "version": 3
   },
   "file_extension": ".py",
   "mimetype": "text/x-python",
   "name": "python",
   "nbconvert_exporter": "python",
   "pygments_lexer": "ipython3",
   "version": "3.9.4"
  }
 },
 "nbformat": 4,
 "nbformat_minor": 2
}
